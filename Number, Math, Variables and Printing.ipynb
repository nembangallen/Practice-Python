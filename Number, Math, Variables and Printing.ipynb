{
 "cells": [
  {
   "cell_type": "code",
   "execution_count": 2,
   "metadata": {},
   "outputs": [
    {
     "name": "stdout",
     "output_type": "stream",
     "text": [
      "I will now count my chickens\n",
      "Hens 30.0\n",
      "Roosters 97\n",
      "Now I will count the eggs.\n",
      "6.75\n",
      "Is it true that 3+2<5-7?\n",
      "False\n",
      "What is 3+2? 5\n",
      "What is 5-7? -2\n",
      "Oh that's why it is false\n",
      "How about some more\n",
      "Is it greater? True\n",
      "Is it greater or equal? True\n",
      "Is it less or equal? False\n"
     ]
    }
   ],
   "source": [
    "print(\"I will now count my chickens\")\n",
    "print(\"Hens\",25+30/6)\n",
    "print(\"Roosters\",100-25*3%4)\n",
    "print(\"Now I will count the eggs.\")\n",
    "print(3+2+1-5+4%2-1/4+6)\n",
    "print(\"Is it true that 3+2<5-7?\")\n",
    "print(3+2<5-7)\n",
    "print(\"What is 3+2?\",3+2)\n",
    "print(\"What is 5-7?\",5-7)\n",
    "print(\"Oh that's why it is false\")\n",
    "print(\"How about some more\")\n",
    "print(\"Is it greater?\",5>-2)\n",
    "print(\"Is it greater or equal?\",5>=-2)\n",
    "print(\"Is it less or equal?\",5<=-2)"
   ]
  },
  {
   "cell_type": "markdown",
   "metadata": {},
   "source": [
    "Variables and Printing"
   ]
  },
  {
   "cell_type": "code",
   "execution_count": 6,
   "metadata": {},
   "outputs": [
    {
     "name": "stdout",
     "output_type": "stream",
     "text": [
      "Let's talk about Allen Nembang.\n",
      "He is 80 inches tall.\n",
      "He is 73 Kg heavy.\n",
      "Actually that's not too heavy.\n",
      "He's got Black eyes and Black hair\n"
     ]
    }
   ],
   "source": [
    "my_name = \"Allen Nembang\"\n",
    "my_age = 23\n",
    "my_height = 80\n",
    "my_weight = 73\n",
    "my_eyes = \"Black\"\n",
    "my_teeth = \"White\"\n",
    "my_hair = \"Black\"\n",
    "print(\"Let's talk about {}.\".format(my_name))\n",
    "print(\"He is {} inches tall.\".format(my_height))\n",
    "print(\"He is {} Kg heavy.\".format(my_weight))\n",
    "print(\"Actually that's not too heavy.\")\n",
    "print(\"He's got {} eyes and {} hair\".format(my_eyes,my_hair))"
   ]
  },
  {
   "cell_type": "code",
   "execution_count": 8,
   "metadata": {},
   "outputs": [
    {
     "name": "stdout",
     "output_type": "stream",
     "text": [
      "There are 10 types of people.\n",
      "Those who know binary and those who know don't.\n"
     ]
    }
   ],
   "source": [
    "x = \"There are %d types of people.\"%10\n",
    "binary = \"binary\"\n",
    "do_not = \"don't\"\n",
    "y = \"Those who know %s and those who know %s.\" %(binary,do_not)\n",
    "print(x)\n",
    "print(y)"
   ]
  },
  {
   "cell_type": "code",
   "execution_count": null,
   "metadata": {},
   "outputs": [],
   "source": []
  }
 ],
 "metadata": {
  "kernelspec": {
   "display_name": "Python 3",
   "language": "python",
   "name": "python3"
  },
  "language_info": {
   "codemirror_mode": {
    "name": "ipython",
    "version": 3
   },
   "file_extension": ".py",
   "mimetype": "text/x-python",
   "name": "python",
   "nbconvert_exporter": "python",
   "pygments_lexer": "ipython3",
   "version": "3.7.3"
  }
 },
 "nbformat": 4,
 "nbformat_minor": 2
}
